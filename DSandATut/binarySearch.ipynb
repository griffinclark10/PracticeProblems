{
 "cells": [
  {
   "cell_type": "code",
   "execution_count": 2,
   "source": [
    "def condition(cards, query, mid):\n",
    "    mid_number = cards[mid]\n",
    "    print(\"mid:\", mid, \" mid_number:\", mid_number)\n",
    "    if mid_number == query:\n",
    "        if mid-1>=0 and cards[mid-1] == query:\n",
    "            return 'left'\n",
    "        else:\n",
    "            return 'found'\n",
    "    elif mid_number < query:\n",
    "        return \"left\"\n",
    "    else:\n",
    "        return \"right\"\n",
    "\n",
    "def binary_search(lo, hi, condition): \n",
    "    while lo <= hi:\n",
    "        mid = (lo + hi)//2\n",
    "        result = condition(mid)\n",
    "        if result == \"found\": return mid\n",
    "        elif result == \"left\": hi = mid - 1\n",
    "        else: lo = mid+1\n",
    "    return -1"
   ],
   "outputs": [],
   "metadata": {}
  }
 ],
 "metadata": {
  "orig_nbformat": 4,
  "language_info": {
   "name": "python",
   "version": "3.8.3",
   "mimetype": "text/x-python",
   "codemirror_mode": {
    "name": "ipython",
    "version": 3
   },
   "pygments_lexer": "ipython3",
   "nbconvert_exporter": "python",
   "file_extension": ".py"
  },
  "kernelspec": {
   "name": "python3",
   "display_name": "Python 3.8.3 64-bit ('base': conda)"
  },
  "interpreter": {
   "hash": "2b762244df89e02df1e2c65aa82eea22e3630781e920e27a80e9b294ee6ed7d8"
  }
 },
 "nbformat": 4,
 "nbformat_minor": 2
}
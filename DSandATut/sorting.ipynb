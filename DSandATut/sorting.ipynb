{
 "cells": [
  {
   "cell_type": "code",
   "execution_count": 1,
   "source": [
    "#we will be working with Merge sort, quick sort and divide and conquer"
   ],
   "outputs": [],
   "metadata": {}
  },
  {
   "cell_type": "code",
   "execution_count": 4,
   "source": [
    "#write function to sort list of notebooks into the top notebooks of the week, needs to be as efficient as possible\n",
    "#write a program to sort a list of numbers"
   ],
   "outputs": [],
   "metadata": {}
  },
  {
   "cell_type": "code",
   "execution_count": 6,
   "source": [
    "#make a couple test cases\n",
    "# A list containing repeating elements\n",
    "test4 = {\n",
    "    'input': {\n",
    "        'nums': [5, -12, 2, 6, 1, 23, 7, 7, -12, 6, 12, 1, -243, 1, 0]\n",
    "    },\n",
    "    'output': [-243, -12, -12, 0, 1, 1, 1, 2, 5, 6, 6, 7, 7, 12, 23]\n",
    "}\n",
    "\n",
    "# List of numbers in random order\n",
    "test1 = {\n",
    "    'input': {\n",
    "        'nums': [5, 2, 6, 1, 23, 7, -12, 12, -243, 0]\n",
    "    },\n",
    "    'output': [-243, -12, 0, 1, 2, 5, 6, 7, 12, 23]\n",
    "}\n",
    "\n",
    "# A list that's already sorted\n",
    "test2 = {\n",
    "    'input': {\n",
    "        'nums': [3, 5, 6, 8, 9, 10, 99]\n",
    "    },\n",
    "    'output': [3, 5, 6, 8, 9, 10, 99]\n",
    "}\n",
    "\n",
    "# A list that's sorted in descending order\n",
    "test3 = {\n",
    "    'input': {\n",
    "        'nums': [99, 10, 9, 8, 6, 5, 3]\n",
    "    },\n",
    "    'output': [3, 5, 6, 8, 9, 10, 99]\n",
    "}"
   ],
   "outputs": [],
   "metadata": {}
  },
  {
   "cell_type": "code",
   "execution_count": 7,
   "source": [
    "import random\n",
    "\n",
    "in_list = list(range(10000))\n",
    "out_list = list(range(10000))\n",
    "random.shuffle(in_list)\n",
    "\n",
    "test8 = {\n",
    "    'input': {\n",
    "        'nums': in_list\n",
    "    },\n",
    "    'output': out_list\n",
    "}"
   ],
   "outputs": [],
   "metadata": {}
  },
  {
   "cell_type": "code",
   "execution_count": 8,
   "source": [
    "def bubbleSort(nums):\n",
    "    #creat copy of list\n",
    "    nums = list(nums)\n",
    "\n",
    "    for i in range(len(nums)-1):\n",
    "        for j in range(len(nums)-1):\n",
    "            if nums"
   ],
   "outputs": [
    {
     "output_type": "error",
     "ename": "SyntaxError",
     "evalue": "invalid syntax (<ipython-input-8-5f9de6a2685b>, line 7)",
     "traceback": [
      "\u001b[0;36m  File \u001b[0;32m\"<ipython-input-8-5f9de6a2685b>\"\u001b[0;36m, line \u001b[0;32m7\u001b[0m\n\u001b[0;31m    if nums\u001b[0m\n\u001b[0m           ^\u001b[0m\n\u001b[0;31mSyntaxError\u001b[0m\u001b[0;31m:\u001b[0m invalid syntax\n"
     ]
    }
   ],
   "metadata": {}
  },
  {
   "cell_type": "code",
   "execution_count": null,
   "source": [],
   "outputs": [],
   "metadata": {}
  }
 ],
 "metadata": {
  "orig_nbformat": 4,
  "language_info": {
   "name": "python",
   "version": "3.8.3",
   "mimetype": "text/x-python",
   "codemirror_mode": {
    "name": "ipython",
    "version": 3
   },
   "pygments_lexer": "ipython3",
   "nbconvert_exporter": "python",
   "file_extension": ".py"
  },
  "kernelspec": {
   "name": "python3",
   "display_name": "Python 3.8.3 64-bit ('base': conda)"
  },
  "interpreter": {
   "hash": "2b762244df89e02df1e2c65aa82eea22e3630781e920e27a80e9b294ee6ed7d8"
  }
 },
 "nbformat": 4,
 "nbformat_minor": 2
}
{
 "cells": [
  {
   "cell_type": "code",
   "execution_count": 1,
   "source": [
    "import math"
   ],
   "outputs": [],
   "metadata": {}
  },
  {
   "cell_type": "code",
   "execution_count": null,
   "source": [],
   "outputs": [],
   "metadata": {}
  },
  {
   "cell_type": "code",
   "execution_count": 17,
   "source": [
    "# def locate_cards(cards, query):\n",
    "#     position = 0\n",
    "#     while position < len(cards):\n",
    "#         if cards[position] == query:\n",
    "#             return position\n",
    "#         position +=1\n",
    "#     return -1\n",
    "def test_location(cards, query, mid):\n",
    "    mid_number = cards[mid]\n",
    "    print(\"mid:\", mid, \" mid_number:\", mid_number)\n",
    "    if mid_number == query:\n",
    "        if mid-1>=0 and cards[mid-1] == query:\n",
    "            return 'left'\n",
    "        else:\n",
    "            return 'found'\n",
    "    elif mid_number < query:\n",
    "        return \"left\"\n",
    "    else:\n",
    "        return \"right\" \n",
    "    \n",
    "\n",
    "\n",
    "def locate_cards(cards, query):\n",
    "    lo, hi = 0, len(cards)\n",
    "\n",
    "    while lo <= hi:\n",
    "        mid = (lo+hi)//2\n",
    "        result = test_location(cards, query, mid)\n",
    "        if result == \"found\":\n",
    "            return mid\n",
    "        elif result == \"left\":\n",
    "            hi = mid - 1\n",
    "        elif result == 'right':\n",
    "            lo = mid +1\n",
    "    return -1\n"
   ],
   "outputs": [],
   "metadata": {}
  },
  {
   "cell_type": "code",
   "execution_count": 4,
   "source": [
    "cards = [13, 11, 10, 7, 4, 3, 1, 0]\n",
    "query = 7\n",
    "output = 3"
   ],
   "outputs": [],
   "metadata": {}
  },
  {
   "cell_type": "code",
   "execution_count": 5,
   "source": [
    "result = locate_cards(cards, query)\n",
    "output == result"
   ],
   "outputs": [
    {
     "output_type": "execute_result",
     "data": {
      "text/plain": [
       "False"
      ]
     },
     "metadata": {},
     "execution_count": 5
    }
   ],
   "metadata": {}
  },
  {
   "cell_type": "code",
   "execution_count": 7,
   "source": [
    "test = {\n",
    "    'input': {\n",
    "        'cards': [13, 11, 10, 7, 4, 3, 1, 0],\n",
    "        'query': 7\n",
    "    },\n",
    "    'output': 3\n",
    "}\n",
    "locate_cards(**test['input']) ==test['output'] #** takes the keys from the dict and the vals are used as parameters"
   ],
   "outputs": [
    {
     "output_type": "execute_result",
     "data": {
      "text/plain": [
       "True"
      ]
     },
     "metadata": {},
     "execution_count": 7
    }
   ],
   "metadata": {}
  },
  {
   "cell_type": "code",
   "execution_count": 1,
   "source": [
    "tests = []\n",
    "tests.append({\n",
    "     'input': {\n",
    "        'cards': [13, 11, 10, 7, 4, 3, 1, 0],\n",
    "        'query': 7\n",
    "    },\n",
    "    'output': 3\n",
    "})"
   ],
   "outputs": [],
   "metadata": {}
  },
  {
   "cell_type": "code",
   "execution_count": 3,
   "source": [
    "tests.append({\n",
    "     'input': {\n",
    "        'cards': [4, 3, 2, 1],\n",
    "        'query': 4\n",
    "    },\n",
    "    'output': 0\n",
    "})"
   ],
   "outputs": [],
   "metadata": {}
  },
  {
   "cell_type": "code",
   "execution_count": 4,
   "source": [
    "tests.append({\n",
    "     'input': {\n",
    "        'cards': [1, 0, -3, -7, -123],\n",
    "        'query': -7\n",
    "    },\n",
    "    'output': 3\n",
    "})"
   ],
   "outputs": [],
   "metadata": {}
  },
  {
   "cell_type": "code",
   "execution_count": null,
   "source": [
    "tests.append({\n",
    "     'input': {\n",
    "        'cards': [221, 11, 6, 2, -3],\n",
    "        'query': 7\n",
    "    },\n",
    "    'output': -1\n",
    "})"
   ],
   "outputs": [],
   "metadata": {}
  },
  {
   "cell_type": "code",
   "execution_count": 8,
   "source": [
    "from jovian.pythondsa import evaluate_test_case"
   ],
   "outputs": [],
   "metadata": {}
  },
  {
   "cell_type": "code",
   "execution_count": 18,
   "source": [
    "evaluate_test_case(locate_cards, test)\n",
    "for test in tests:\n",
    "    print(locate_cards(**test['input']) == test['output'])"
   ],
   "outputs": [
    {
     "output_type": "stream",
     "name": "stdout",
     "text": [
      "\n",
      "Input:\n",
      "{'cards': [1, 0, -3, -7, -123], 'query': -7}\n",
      "\n",
      "Expected Output:\n",
      "3\n",
      "\n",
      "mid: 2  mid_number: -3\n",
      "mid: 4  mid_number: -123\n",
      "mid: 3  mid_number: -7\n",
      "\n",
      "Actual Output:\n",
      "3\n",
      "\n",
      "Execution Time:\n",
      "0.272 ms\n",
      "\n",
      "Test Result:\n",
      "\u001b[92mPASSED\u001b[0m\n",
      "\n",
      "mid: 4  mid_number: 4\n",
      "mid: 1  mid_number: 11\n",
      "mid: 2  mid_number: 10\n",
      "mid: 3  mid_number: 7\n",
      "True\n",
      "mid: 2  mid_number: 2\n",
      "mid: 0  mid_number: 4\n",
      "True\n",
      "mid: 2  mid_number: 2\n",
      "mid: 0  mid_number: 4\n",
      "True\n",
      "mid: 2  mid_number: -3\n",
      "mid: 4  mid_number: -123\n",
      "mid: 3  mid_number: -7\n",
      "True\n"
     ]
    }
   ],
   "metadata": {}
  },
  {
   "cell_type": "code",
   "execution_count": null,
   "source": [],
   "outputs": [],
   "metadata": {}
  },
  {
   "cell_type": "code",
   "execution_count": null,
   "source": [],
   "outputs": [],
   "metadata": {}
  },
  {
   "cell_type": "code",
   "execution_count": null,
   "source": [],
   "outputs": [],
   "metadata": {}
  },
  {
   "cell_type": "code",
   "execution_count": null,
   "source": [],
   "outputs": [],
   "metadata": {}
  },
  {
   "cell_type": "code",
   "execution_count": null,
   "source": [],
   "outputs": [],
   "metadata": {}
  }
 ],
 "metadata": {
  "kernelspec": {
   "name": "python3",
   "display_name": "Python 3.8.3 64-bit ('base': conda)"
  },
  "language_info": {
   "codemirror_mode": {
    "name": "ipython",
    "version": 3
   },
   "file_extension": ".py",
   "mimetype": "text/x-python",
   "name": "python",
   "nbconvert_exporter": "python",
   "pygments_lexer": "ipython3",
   "version": "3.8.3"
  },
  "interpreter": {
   "hash": "2b762244df89e02df1e2c65aa82eea22e3630781e920e27a80e9b294ee6ed7d8"
  }
 },
 "nbformat": 4,
 "nbformat_minor": 4
}